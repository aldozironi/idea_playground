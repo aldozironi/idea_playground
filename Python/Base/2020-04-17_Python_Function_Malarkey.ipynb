{
 "cells": [
  {
   "cell_type": "markdown",
   "metadata": {},
   "source": [
    "# Python Function Malarkey Ignition\n",
    "\n",
    "### 2020-04-17\n",
    "\n",
    "## Contents\n",
    "\n",
    "* [Introduction](#intro)\n",
    "* [Prerequisite: Mutable and Immutable Objects](#prereq)\n",
    "* [Function Arguments](#arguments)\n",
    "* [Default Arguments](#default-arguments)\n",
    "* [Namespaces & Scopes](#scopes)\n",
    "* [Closures](#closures)\n",
    "* [Decorators](#decorators)\n",
    "    * [Simple Decorators](#simple-decorators)\n",
    "    * [Parametrized Decorators](#parametrized-decorators)\n",
    "* [Concluding Thoughts](#conclusions)\n",
    "* [References](#references)\n",
    "\n",
    "\n",
    "**Note:** This notebook only runs in Python 3.5 or above."
   ]
  },
  {
   "cell_type": "markdown",
   "metadata": {},
   "source": [
    "## Introduction <a class=\"anchor\" id=\"intro\"></a>\n",
    "\n",
    "The goal of this Ignition is to introduce and expand some concepts related to functions in Python."
   ]
  },
  {
   "cell_type": "markdown",
   "metadata": {},
   "source": [
    "## Prerrequisite: Mutable and Immutable Objects <a class=\"anchor\" id=\"prereq\"></a>\n",
    "\n",
    "Do you like Object Oriented Programming? I hope so, because _everything_ in Pyhon is an object. Repeat after me:\n",
    "\n",
    "> Everything in Pytyhon is an object.\n",
    "\n",
    "So... buckle up.\n",
    "\n",
    "The thing about objects is that there are multiple kinds of objects. For our purposes we'll consider only one: mutable vs. immutable.\n",
    "\n",
    "Consider the following objects:"
   ]
  },
  {
   "cell_type": "code",
   "execution_count": 1,
   "metadata": {
    "jupyter": {
     "source_hidden": true
    }
   },
   "outputs": [],
   "source": [
    "object_1 = 32423432  # integer object (immutable)\n",
    "object_2 = [32423432]  # list object (mutable)"
   ]
  },
  {
   "cell_type": "markdown",
   "metadata": {},
   "source": [
    "Without looking too much under the hood, when we ran the previous cell, Python allocated some memory to save the object named `object_1`, and some other memory to save `object_2`. We can consult the **memory address** (exactly where something is stored) using the `id` built-in method."
   ]
  },
  {
   "cell_type": "code",
   "execution_count": 2,
   "metadata": {
    "jupyter": {
     "source_hidden": true
    }
   },
   "outputs": [
    {
     "name": "stdout",
     "output_type": "stream",
     "text": [
      "object_1 is stored at 140216130896720.\n",
      "object_2 is stored at 140216130834248.\n"
     ]
    }
   ],
   "source": [
    "# Outputs will vary each session.\n",
    "print(f'object_1 is stored at {id(object_1)}.')\n",
    "print(f'object_2 is stored at {id(object_2)}.')"
   ]
  },
  {
   "cell_type": "markdown",
   "metadata": {},
   "source": [
    "**Mutability** is an attribute of an object in Python that indicates whether modifying it changes the memory address or not. For example, integers (like `object_1`) are immutable, whereas lists are mutable. Let's see this in action."
   ]
  },
  {
   "cell_type": "code",
   "execution_count": 3,
   "metadata": {
    "jupyter": {
     "source_hidden": true
    }
   },
   "outputs": [
    {
     "name": "stdout",
     "output_type": "stream",
     "text": [
      "As before, object_1 is stored at 140216130896720.\n",
      "After adding 1, object_1 is stored at 140216130896656.\n",
      "Note that the change is independent of syntax, since object_1 is now stored at 140216130896720.\n",
      "\n",
      "As before, object_2 is stored at 140216130834248.\n",
      "After appending 1 to the list, object_2 is stored at 140216130834248.\n"
     ]
    }
   ],
   "source": [
    "# For object 1\n",
    "# See the original address as above\n",
    "print(f'As before, object_1 is stored at {id(object_1)}.')\n",
    "# Change the object\n",
    "object_1 = object_1 + 1\n",
    "# Check memory address after the change.\n",
    "print(f'After adding 1, object_1 is stored at {id(object_1)}.')\n",
    "# Repeat with a different syntax\n",
    "object_1 += 1\n",
    "print(f'Note that the change is independent of syntax, since object_1 is now stored at {id(object_1)}.')\n",
    "\n",
    "print('')\n",
    "\n",
    "# For object_2\n",
    "# See the original address as above\n",
    "print(f'As before, object_2 is stored at {id(object_2)}.')\n",
    "# Change the object\n",
    "object_2.append(1)\n",
    "# Check memory address after the change.\n",
    "print(f'After appending 1 to the list, object_2 is stored at {id(object_2)}.')"
   ]
  },
  {
   "cell_type": "markdown",
   "metadata": {},
   "source": [
    "A final note on mutability: We mentioned that lists are mutable, which is true insofar as you're looking at the list itself. Objects within a list can be either mutable or immutable. For example, `object_2` is a list (mutable) that contains two integers (immutable). This means that when we try to modify the list itself by adding or removing elements, reordering, etc. we'll keep the memory address. When we try to modify an immutable element of the list, the list will retain its address and the element's will change,"
   ]
  },
  {
   "cell_type": "code",
   "execution_count": 4,
   "metadata": {
    "jupyter": {
     "source_hidden": true
    }
   },
   "outputs": [
    {
     "name": "stdout",
     "output_type": "stream",
     "text": [
      "Remember that object_2 is stored at 140216130834248.\n",
      "The first element of object_2 is stored at 140216130896688.\n",
      "After adding 1 to the first element of object_2, object 2 remains stored at 140216130834248, \n",
      "and its first element is now stored at 140216130896944.\n"
     ]
    }
   ],
   "source": [
    "print(f'Remember that object_2 is stored at {id(object_2)}.')\n",
    "\n",
    "print(f'The first element of object_2 is stored at {id(object_2[0])}.')\n",
    "# Change the first item\n",
    "object_2[0] += 1\n",
    "# Check memory addresses after the change.\n",
    "print(f'After adding 1 to the first element of object_2, object 2 remains stored at {id(object_2)}, ')\n",
    "print(f'and its first element is now stored at {id(object_2[0])}.')"
   ]
  },
  {
   "cell_type": "markdown",
   "metadata": {},
   "source": [
    "## Function Arguments <a class=\"anchor\" id=\"arguments\"></a>\n",
    "\n",
    "In Python, a **function parameter** is a variable name for inputs that it receives, and a **function argument** is the value it's passed. For example the following function has the parameter `a`, and is called on using the argument `7`:"
   ]
  },
  {
   "cell_type": "code",
   "execution_count": 5,
   "metadata": {},
   "outputs": [
    {
     "data": {
      "text/plain": [
       "8"
      ]
     },
     "execution_count": 5,
     "metadata": {},
     "output_type": "execute_result"
    }
   ],
   "source": [
    "def my_func(a):\n",
    "    return a + 1\n",
    "\n",
    "my_func(7)"
   ]
  },
  {
   "cell_type": "markdown",
   "metadata": {},
   "source": [
    "This distinction is merely academic and no one really cares, using both terms interchangeably. The reason I'll make this distinction for now is that I believe that using a more precise language will help you grok what we'll cover in this section.\n",
    "\n",
    "There are two ways Python functions can receive arguments:\n",
    "\n",
    "1. Positionally: The position of the argument determines to which parameter it gets assigned.\n",
    "2. By keywords: The parameter-argument is explicitly specified."
   ]
  },
  {
   "cell_type": "code",
   "execution_count": 6,
   "metadata": {},
   "outputs": [
    {
     "name": "stdout",
     "output_type": "stream",
     "text": [
      "Running the function passing all arguments by position: (1, 2, 3)\n",
      "Running the function passing all arguments by keyword: (1, 2, 3)\n",
      "Running the function mixing methods: (1, 2, 3)\n"
     ]
    }
   ],
   "source": [
    "def my_func(a, b, c):\n",
    "    \"\"\"\n",
    "    A function with 3 parameters.\n",
    "    \"\"\"\n",
    "    return a, b, c\n",
    "\n",
    "print(f'Running the function passing all arguments by position: {my_func(1, 2, 3)}')\n",
    "print(f'Running the function passing all arguments by keyword: {my_func(a=1, b=2, c=3)}')\n",
    "print(f'Running the function mixing methods: {my_func(1, b=2, c=3)}')"
   ]
  },
  {
   "cell_type": "markdown",
   "metadata": {},
   "source": [
    "Python allows you to define functions that take an arbitrary number of arguments as follows:"
   ]
  },
  {
   "cell_type": "code",
   "execution_count": 7,
   "metadata": {},
   "outputs": [
    {
     "name": "stdout",
     "output_type": "stream",
     "text": [
      "1 2\n",
      "(3, 4, 5, 6)\n"
     ]
    }
   ],
   "source": [
    "def my_func(a, b, *args):\n",
    "    \"\"\"\n",
    "    Function that can receive an arbitrary number of arguments.\n",
    "    \"\"\"\n",
    "    # a, b work the same.\n",
    "    print(a, b)\n",
    "    # all other arguments get compacted into the tuple called args.\n",
    "    print(args)\n",
    "    return None\n",
    "\n",
    "my_func(1, 2, 3, 4, 5, 6)"
   ]
  },
  {
   "cell_type": "markdown",
   "metadata": {},
   "source": [
    "Note that since Python doesn't allow you to use the positional method after you used the keyword method, you _can't_ mix methods:"
   ]
  },
  {
   "cell_type": "code",
   "execution_count": 8,
   "metadata": {},
   "outputs": [
    {
     "ename": "SyntaxError",
     "evalue": "positional argument follows keyword argument (<ipython-input-8-fe7551e288f3>, line 1)",
     "output_type": "error",
     "traceback": [
      "\u001b[0;36m  File \u001b[0;32m\"<ipython-input-8-fe7551e288f3>\"\u001b[0;36m, line \u001b[0;32m1\u001b[0m\n\u001b[0;31m    my_func(a=1, b=2, 3, 4, 5, 6)\u001b[0m\n\u001b[0m                     ^\u001b[0m\n\u001b[0;31mSyntaxError\u001b[0m\u001b[0;31m:\u001b[0m positional argument follows keyword argument\n"
     ]
    }
   ],
   "source": [
    "my_func(a=1, b=2, 3, 4, 5, 6)"
   ]
  },
  {
   "cell_type": "markdown",
   "metadata": {},
   "source": [
    "What if you had a function that uses `*args` and you really wanted to allow users to define arguments via the keyword method? Well, that's what keyword-only arguments are for."
   ]
  },
  {
   "cell_type": "code",
   "execution_count": 9,
   "metadata": {},
   "outputs": [
    {
     "name": "stdout",
     "output_type": "stream",
     "text": [
      "1 7\n",
      "(2, 3, 4, 5, 6)\n"
     ]
    }
   ],
   "source": [
    "def my_func(a, *args, b):\n",
    "    \"\"\"\n",
    "    Function that can receive an arbitrary number of arguments and has a \n",
    "    keyword-only argument, b.\n",
    "    \"\"\"\n",
    "    # a, b work the same.\n",
    "    print(a, b)\n",
    "    # all other arguments get compacted into the tuple called args.\n",
    "    print(args)\n",
    "    return None\n",
    "\n",
    "my_func(1, 2, 3, 4, 5, 6, b=7)"
   ]
  },
  {
   "cell_type": "markdown",
   "metadata": {},
   "source": [
    "Note that b is written after the `*args`, meaning that it can only be reached if you use the keyword method to assign the argument.\n",
    "\n",
    "What if you wanted to allow your users to pass any number of arguments using the keyword method? You use the `**kwargs` parameter:"
   ]
  },
  {
   "cell_type": "code",
   "execution_count": 10,
   "metadata": {},
   "outputs": [
    {
     "name": "stdout",
     "output_type": "stream",
     "text": [
      "1\n",
      "{'b': 7, 'c': 3}\n"
     ]
    }
   ],
   "source": [
    "def my_func(a, **kwargs):\n",
    "    \"\"\"\n",
    "    Function that can receive an arbitrary number of keyword arguments.\n",
    "    \"\"\"\n",
    "    # a, b work the same.\n",
    "    print(a)\n",
    "    # all other keyword arguments get compacted into the dictionary called kwargs.\n",
    "    print(kwargs)\n",
    "    return None\n",
    "\n",
    "my_func(1, b=7, c=3)"
   ]
  },
  {
   "cell_type": "markdown",
   "metadata": {},
   "source": [
    "Note that there is nothing stoppig you from having both `*args` and `*kwargs` in the same function."
   ]
  },
  {
   "cell_type": "code",
   "execution_count": 11,
   "metadata": {},
   "outputs": [
    {
     "name": "stdout",
     "output_type": "stream",
     "text": [
      "1\n",
      "(2, 3, 4)\n",
      "{'b': 7, 'c': 3}\n"
     ]
    }
   ],
   "source": [
    "def my_func(a, *args, **kwargs):\n",
    "    \"\"\"\n",
    "    Function that can receive an arbitrary number of positional and keyword arguments.\n",
    "    \"\"\"\n",
    "    # a, b work the same.\n",
    "    print(a)\n",
    "    # all other positional arguments get compacted into the tuple called args.\n",
    "    print(args)\n",
    "    # all other keyword arguments get compacted into the tuple called args.\n",
    "    print(kwargs)\n",
    "    return None\n",
    "\n",
    "my_func(1, 2, 3, 4, b=7, c=3)"
   ]
  },
  {
   "cell_type": "markdown",
   "metadata": {},
   "source": [
    "## Default Arguments <a class=\"anchor\" id=\"default-arguments\"></a>\n",
    "\n",
    "**Default arguments** are arguments that can be set for a function so that you don't have to. They're certainly useful; however, there's a non-obvious danger hidden within if we're not careful.\n",
    "\n",
    "To define a default argument, just type an `=` and the default value you want to use for the argument."
   ]
  },
  {
   "cell_type": "code",
   "execution_count": 12,
   "metadata": {},
   "outputs": [
    {
     "name": "stdout",
     "output_type": "stream",
     "text": [
      "Running my_func passing all arguments.\n",
      "3 2 0 1\n",
      "\n",
      "Running my_func with default values\n",
      "3 5 2 holi\n"
     ]
    }
   ],
   "source": [
    "# An example of a function with default arguments\n",
    "\n",
    "# Define a do-nothing function to test default arguments\n",
    "def my_func(a: 'int',\n",
    "            b: 'positional with default value of 5'=5,\n",
    "            *args,\n",
    "            c: 'required keyword only',\n",
    "            d: 'keyword only with default value'='holi'\n",
    "           ):\n",
    "    print(a, b, c, d)\n",
    "    return None\n",
    "\n",
    "print('Running my_func passing all arguments.')\n",
    "my_func(3, 2, d=1, c=0)\n",
    "print('')\n",
    "print('Running my_func with default values')\n",
    "my_func(3, c=2)"
   ]
  },
  {
   "cell_type": "markdown",
   "metadata": {},
   "source": [
    "We can access (and modify) defaults for positional arguments using the `__defaults__` property, which returns a tuple of right-aligned default values."
   ]
  },
  {
   "cell_type": "code",
   "execution_count": 13,
   "metadata": {},
   "outputs": [
    {
     "data": {
      "text/plain": [
       "(5,)"
      ]
     },
     "execution_count": 13,
     "metadata": {},
     "output_type": "execute_result"
    }
   ],
   "source": [
    "# Print the default \n",
    "my_func.__defaults__"
   ]
  },
  {
   "cell_type": "markdown",
   "metadata": {},
   "source": [
    "When we define default values, they get assigned at the moment of the function definition."
   ]
  },
  {
   "cell_type": "code",
   "execution_count": 14,
   "metadata": {},
   "outputs": [
    {
     "name": "stdout",
     "output_type": "stream",
     "text": [
      "Running my_func.\n",
      "1 10\n",
      "\n",
      "Running my_func after modifying t.\n",
      "1 10\n"
     ]
    }
   ],
   "source": [
    "t = 10\n",
    "\n",
    "def my_func(a, b=t):\n",
    "    print(a, b)\n",
    "    return None\n",
    "\n",
    "print('Running my_func.')\n",
    "my_func(1)\n",
    "print('')\n",
    "\n",
    "t=5\n",
    "print('Running my_func after modifying t.')\n",
    "my_func(1)"
   ]
  },
  {
   "cell_type": "markdown",
   "metadata": {},
   "source": [
    "**Unless you know what you're doing, avoid using mutables as default arguments.**"
   ]
  },
  {
   "cell_type": "code",
   "execution_count": 15,
   "metadata": {},
   "outputs": [
    {
     "name": "stdout",
     "output_type": "stream",
     "text": [
      "First run of my_func.\n",
      "1 [1]\n",
      "\n",
      "Second run of my_func.\n",
      "1 [1, 1]\n"
     ]
    }
   ],
   "source": [
    "def my_func(a, b=[]):\n",
    "    b.append(1)\n",
    "    print(a, b)\n",
    "    return None\n",
    "\n",
    "print('First run of my_func.')\n",
    "my_func(1)\n",
    "print('')\n",
    "\n",
    "print('Second run of my_func.')\n",
    "my_func(1)"
   ]
  },
  {
   "cell_type": "markdown",
   "metadata": {},
   "source": [
    "An idea for a solution is to use constants:"
   ]
  },
  {
   "cell_type": "code",
   "execution_count": 16,
   "metadata": {},
   "outputs": [
    {
     "name": "stdout",
     "output_type": "stream",
     "text": [
      "Value of the constant before running my_func\n",
      "[]\n",
      "First run of my_func.\n",
      "1 [1]\n",
      "\n",
      "Value of the constant after running my_func\n",
      "[1]\n"
     ]
    }
   ],
   "source": [
    "# An example of what not to do.\n",
    "DEFAULT_VALUE = []\n",
    "\n",
    "def my_func(a, b=DEFAULT_VALUE):\n",
    "    b.append(1)\n",
    "    print(a, b)\n",
    "    return None\n",
    "\n",
    "print('Value of the constant before running my_func')\n",
    "print(DEFAULT_VALUE)\n",
    "\n",
    "print('First run of my_func.')\n",
    "my_func(1)\n",
    "print('')\n",
    "\n",
    "print('Value of the constant after running my_func')\n",
    "print(DEFAULT_VALUE)"
   ]
  },
  {
   "cell_type": "markdown",
   "metadata": {},
   "source": [
    "The idea is good, however it doesn't take into account that when using mutables, the *same* memory adress is kept, so modifying \"inside\" the function modifies the \"outside\" values. The following implementation solves the problem:"
   ]
  },
  {
   "cell_type": "code",
   "execution_count": 17,
   "metadata": {},
   "outputs": [
    {
     "name": "stdout",
     "output_type": "stream",
     "text": [
      "Value of the constant before running my_func\n",
      "[]\n",
      "First run of my_func.\n",
      "1 [1]\n",
      "\n",
      "Value of the constant after running my_func\n",
      "[]\n"
     ]
    }
   ],
   "source": [
    "import copy\n",
    "\n",
    "# An example of what not to do.\n",
    "DEFAULT_VALUE = []\n",
    "\n",
    "# Default is set to None\n",
    "def my_func(a, b=None):\n",
    "    # Make a copy agnostic to the data structure .\n",
    "    b = b or copy.copy(DEFAULT_VALUE)\n",
    "    b.append(1)\n",
    "    print(a, b)\n",
    "    return None\n",
    "\n",
    "print('Value of the constant before running my_func')\n",
    "print(DEFAULT_VALUE)\n",
    "\n",
    "print('First run of my_func.')\n",
    "my_func(1)\n",
    "print('')\n",
    "\n",
    "print('Value of the constant after running my_func')\n",
    "print(DEFAULT_VALUE)"
   ]
  },
  {
   "cell_type": "markdown",
   "metadata": {},
   "source": [
    "That works fine... Wait, how does the function know the value of `DEFAULT_VALUE`?\n",
    "\n",
    "The answer lies in something called **scopes**."
   ]
  },
  {
   "cell_type": "markdown",
   "metadata": {},
   "source": [
    "## Namespaces & Scopes <a class=\"anchor\" id=\"scopes\"></a>\n",
    "\n",
    "Variables and values need to live somewhere so that Python can access them. The places they live are called **namespaces**.\n",
    "\n",
    "A namespace is a mapping of variable names to memory addresses. Basically, whenever you create a variable, a space in memory gets reserved for the value. Then, a (key, value) pair gets added to the namespace, where the key is the name of the variable and the value is the memory address. There are 3 basic namespaces:\n",
    "\n",
    "1. **Built-in**: Everything that gets instanced when you load up Python. It contains base functions (`sum`, `max`, etc.) values (`None`, `False`, etc.).\n",
    "2. **Global**: Whatever is in the `main` module.\n",
    "3. **Local**: What is inside a function.\n",
    "\n",
    "They follow a hierarchical structure:\n",
    "\n",
    "<img src=\"https://media.geeksforgeeks.org/wp-content/uploads/types_namespace-1.png\">"
   ]
  },
  {
   "cell_type": "code",
   "execution_count": 18,
   "metadata": {},
   "outputs": [
    {
     "data": {
      "text/plain": [
       "<function __main__.my_func(a, b=None)>"
      ]
     },
     "execution_count": 18,
     "metadata": {},
     "output_type": "execute_result"
    }
   ],
   "source": [
    "# Since we defined my_func in the main module, it's conatined in the global namespace.\n",
    "\n",
    "# my_func's representation in the namespace\n",
    "globals()['my_func']"
   ]
  },
  {
   "cell_type": "markdown",
   "metadata": {},
   "source": [
    "Built-in and Global namespaces stay active as long as Python is; whereas Local namespaces are ephemeral in the sense that the moment the function stops running, everything in it disappears.\n",
    "\n",
    "A **scope** refers to the namespaces a certain part of the program has access to:\n",
    "\n",
    "1. Fist, Python will look in the smallest namespace it has access to (local if within a function and global if in the `main` module).\n",
    "2. If the variable name isn't in that namespace, it looks at the next larger namespace.\n",
    "3. Keep going up in the namespaces until the Built-in is reached.\n",
    "4. If the variable name isn't found in Built-in, raise an error."
   ]
  },
  {
   "cell_type": "code",
   "execution_count": 19,
   "metadata": {},
   "outputs": [
    {
     "name": "stdout",
     "output_type": "stream",
     "text": [
      "Is my_func in the global namespace: True\n"
     ]
    },
    {
     "data": {
      "text/plain": [
       "<function __main__.my_func(a, b=None)>"
      ]
     },
     "execution_count": 19,
     "metadata": {},
     "output_type": "execute_result"
    }
   ],
   "source": [
    "# As we know, my_func is in globals so it can be found.\n",
    "print(f\"Is my_func in the global namespace: {'my_func' in globals().keys()}\")\n",
    "my_func"
   ]
  },
  {
   "cell_type": "code",
   "execution_count": 20,
   "metadata": {},
   "outputs": [
    {
     "name": "stdout",
     "output_type": "stream",
     "text": [
      "Is max in the global namespace: False\n",
      "Still it can be found because it is in the built-in namespace.\n"
     ]
    },
    {
     "data": {
      "text/plain": [
       "<function max>"
      ]
     },
     "execution_count": 20,
     "metadata": {},
     "output_type": "execute_result"
    }
   ],
   "source": [
    "# As we know, max is in built-in namespace so it can be found.\n",
    "print(f\"Is max in the global namespace: {'max' in globals().keys()}\")\n",
    "print('Still it can be found because it is in the built-in namespace.')\n",
    "max"
   ]
  },
  {
   "cell_type": "code",
   "execution_count": 21,
   "metadata": {},
   "outputs": [
    {
     "name": "stdout",
     "output_type": "stream",
     "text": [
      "Variables in my_func:\n",
      "('a', 'b')\n"
     ]
    },
    {
     "ename": "NameError",
     "evalue": "name 'a' is not defined",
     "output_type": "error",
     "traceback": [
      "\u001b[0;31m---------------------------------------------------------------------------\u001b[0m",
      "\u001b[0;31mNameError\u001b[0m                                 Traceback (most recent call last)",
      "\u001b[0;32m<ipython-input-21-40bbc8208844>\u001b[0m in \u001b[0;36m<module>\u001b[0;34m\u001b[0m\n\u001b[1;32m      3\u001b[0m \u001b[0mprint\u001b[0m\u001b[0;34m(\u001b[0m\u001b[0mmy_func\u001b[0m\u001b[0;34m.\u001b[0m\u001b[0m__code__\u001b[0m\u001b[0;34m.\u001b[0m\u001b[0mco_varnames\u001b[0m\u001b[0;34m)\u001b[0m\u001b[0;34m\u001b[0m\u001b[0;34m\u001b[0m\u001b[0m\n\u001b[1;32m      4\u001b[0m \u001b[0;34m\u001b[0m\u001b[0m\n\u001b[0;32m----> 5\u001b[0;31m \u001b[0ma\u001b[0m\u001b[0;34m\u001b[0m\u001b[0;34m\u001b[0m\u001b[0m\n\u001b[0m",
      "\u001b[0;31mNameError\u001b[0m: name 'a' is not defined"
     ]
    }
   ],
   "source": [
    "# Variable a that is used in the function my_func is not in the built-in or global namespaces, so it can't be found outside of the function.\n",
    "print('Variables in my_func:')\n",
    "print(my_func.__code__.co_varnames)\n",
    "\n",
    "a"
   ]
  },
  {
   "cell_type": "markdown",
   "metadata": {},
   "source": [
    "You can nest local scopes within each other."
   ]
  },
  {
   "cell_type": "code",
   "execution_count": 22,
   "metadata": {},
   "outputs": [
    {
     "name": "stdout",
     "output_type": "stream",
     "text": [
      "2 3 5 15\n"
     ]
    }
   ],
   "source": [
    "d = 15\n",
    "def my_nested_func(a):\n",
    "    b = 3\n",
    "    def my_inner_func(a):\n",
    "        c=5\n",
    "        # d is taken from global,\n",
    "        # c is taken from local inside my_inner_func\n",
    "        # b and a are taken from local in my_nested_func\n",
    "        print(a, b, c, d)\n",
    "        return None\n",
    "    my_inner_func(a)\n",
    "    return None\n",
    "my_nested_func(2)"
   ]
  },
  {
   "cell_type": "markdown",
   "metadata": {},
   "source": [
    "One of the cool-yet-dangerous features of scopes is that they allow us to do **aliasing**, i.e., renaming variables and functions in different places to do different things."
   ]
  },
  {
   "cell_type": "code",
   "execution_count": 23,
   "metadata": {},
   "outputs": [
    {
     "name": "stdout",
     "output_type": "stream",
     "text": [
      "Original value for d: 15\n",
      "The value of d inside my_nested_func: 5\n",
      "The value of d inside my_inner_func: 3\n",
      "Value of d after running my_nested_func: 15\n"
     ]
    }
   ],
   "source": [
    "d = 15\n",
    "print(f'Original value for d: {d}')\n",
    "\n",
    "def my_nested_func():\n",
    "    d = 5\n",
    "    def my_inner_func():\n",
    "        d = 3\n",
    "        print(f'The value of d inside my_inner_func: {d}')\n",
    "        return None\n",
    "    print(f'The value of d inside my_nested_func: {d}')\n",
    "    my_inner_func()\n",
    "    return None\n",
    "my_nested_func()\n",
    "\n",
    "print(f'Value of d after running my_nested_func: {d}')"
   ]
  },
  {
   "cell_type": "markdown",
   "metadata": {},
   "source": [
    "When does the aliasing happen? We could track it with the print function!"
   ]
  },
  {
   "cell_type": "code",
   "execution_count": 24,
   "metadata": {},
   "outputs": [
    {
     "ename": "UnboundLocalError",
     "evalue": "local variable 'd' referenced before assignment",
     "output_type": "error",
     "traceback": [
      "\u001b[0;31m---------------------------------------------------------------------------\u001b[0m",
      "\u001b[0;31mUnboundLocalError\u001b[0m                         Traceback (most recent call last)",
      "\u001b[0;32m<ipython-input-24-0cd423ba02c1>\u001b[0m in \u001b[0;36m<module>\u001b[0;34m\u001b[0m\n\u001b[1;32m     11\u001b[0m     \u001b[0;32mreturn\u001b[0m \u001b[0;32mNone\u001b[0m\u001b[0;34m\u001b[0m\u001b[0;34m\u001b[0m\u001b[0m\n\u001b[1;32m     12\u001b[0m \u001b[0;34m\u001b[0m\u001b[0m\n\u001b[0;32m---> 13\u001b[0;31m \u001b[0mmy_nested_func\u001b[0m\u001b[0;34m(\u001b[0m\u001b[0;34m)\u001b[0m\u001b[0;34m\u001b[0m\u001b[0;34m\u001b[0m\u001b[0m\n\u001b[0m",
      "\u001b[0;32m<ipython-input-24-0cd423ba02c1>\u001b[0m in \u001b[0;36mmy_nested_func\u001b[0;34m()\u001b[0m\n\u001b[1;32m      2\u001b[0m \u001b[0;34m\u001b[0m\u001b[0m\n\u001b[1;32m      3\u001b[0m \u001b[0;32mdef\u001b[0m \u001b[0mmy_nested_func\u001b[0m\u001b[0;34m(\u001b[0m\u001b[0;34m)\u001b[0m\u001b[0;34m:\u001b[0m\u001b[0;34m\u001b[0m\u001b[0;34m\u001b[0m\u001b[0m\n\u001b[0;32m----> 4\u001b[0;31m     \u001b[0mprint\u001b[0m\u001b[0;34m(\u001b[0m\u001b[0;34mf'Value of d at checkpoint 1: {d}'\u001b[0m\u001b[0;34m)\u001b[0m\u001b[0;34m\u001b[0m\u001b[0;34m\u001b[0m\u001b[0m\n\u001b[0m\u001b[1;32m      5\u001b[0m     \u001b[0md\u001b[0m \u001b[0;34m=\u001b[0m \u001b[0;36m5\u001b[0m\u001b[0;34m\u001b[0m\u001b[0;34m\u001b[0m\u001b[0m\n\u001b[1;32m      6\u001b[0m     \u001b[0mprint\u001b[0m\u001b[0;34m(\u001b[0m\u001b[0;34mf'Value of d at checkpoint 2: {d}'\u001b[0m\u001b[0;34m)\u001b[0m\u001b[0;34m\u001b[0m\u001b[0;34m\u001b[0m\u001b[0m\n",
      "\u001b[0;31mUnboundLocalError\u001b[0m: local variable 'd' referenced before assignment"
     ]
    }
   ],
   "source": [
    "d = 15\n",
    "\n",
    "def my_nested_func():\n",
    "    print(f'Value of d at checkpoint 1: {d}')\n",
    "    d = 5\n",
    "    print(f'Value of d at checkpoint 2: {d}')\n",
    "    def my_inner_func():\n",
    "        d = 3\n",
    "        return None\n",
    "    my_inner_func()\n",
    "    return None\n",
    "\n",
    "my_nested_func()"
   ]
  },
  {
   "cell_type": "markdown",
   "metadata": {},
   "source": [
    "Wait, what?\n",
    "\n",
    "Turns out that when Python builds the function, it looks at all the variables that get defined inside of it and makes them local and will *not* look at other scopes (that is, unless you force it to)."
   ]
  },
  {
   "cell_type": "code",
   "execution_count": 25,
   "metadata": {},
   "outputs": [
    {
     "name": "stdout",
     "output_type": "stream",
     "text": [
      "Original value for d: 15\n",
      "Value of d at checkpoint 1: 15\n",
      "Value of d at checkpoint 2: 5\n",
      "Value of d after running my_nested_func: 5\n"
     ]
    }
   ],
   "source": [
    "d = 15\n",
    "\n",
    "print(f'Original value for d: {d}')\n",
    "\n",
    "def my_nested_func():\n",
    "    global d\n",
    "    print(f'Value of d at checkpoint 1: {d}')\n",
    "    d = 5\n",
    "    print(f'Value of d at checkpoint 2: {d}')\n",
    "    def my_inner_func():\n",
    "        d = 3\n",
    "        return None\n",
    "    my_inner_func()\n",
    "    return None\n",
    "\n",
    "my_nested_func()\n",
    "print(f'Value of d after running my_nested_func: {d}')"
   ]
  },
  {
   "cell_type": "markdown",
   "metadata": {},
   "source": [
    "Can I only force Python to look at values in the Global scope? What if I wanted to use the value of `d` that is local to `my_nested_func` inside `my_inner_func`?\n",
    "\n",
    "You can, and things get weird."
   ]
  },
  {
   "cell_type": "markdown",
   "metadata": {},
   "source": [
    "## Closures <a class=\"anchor\" id=\"closures\"></a>\n",
    "\n",
    "Consider the following function:"
   ]
  },
  {
   "cell_type": "code",
   "execution_count": 26,
   "metadata": {},
   "outputs": [
    {
     "name": "stdout",
     "output_type": "stream",
     "text": [
      "Global value for d: 15\n",
      "8\n",
      "Global value for d: 15\n"
     ]
    }
   ],
   "source": [
    "d = 15\n",
    "print(f'Global value for d: {d}')\n",
    "\n",
    "def outer():\n",
    "    d = 5\n",
    "    def inner(a):\n",
    "        return d + a\n",
    "    return inner\n",
    "\n",
    "func = outer()\n",
    "print(func(3))\n",
    "\n",
    "print(f'Global value for d: {d}')"
   ]
  },
  {
   "cell_type": "markdown",
   "metadata": {},
   "source": [
    "Note that:\n",
    "\n",
    "1. Outer returns the `inner` function, as opposed to the evaluation of inner. Remember that for Python EVERYTHING is an object, including functions, so there are no issues, although the construction could seem a bit odd.\n",
    "2. We were able to run the inner function, and the value it took for parameter `d` was 5 (the same that was defined in the local scope of outer).\n",
    "\n",
    "What is going on here?\n",
    "\n",
    "When we run the line \n",
    "\n",
    "``func = outer()``\n",
    "\n",
    "Python:\n",
    "\n",
    "1. Creates the local variable `d`.\n",
    "2. Creates the function `inner` that takes a single parameter `a` and references the __local__ variable `d`.\n",
    "3. Return the function `inner`.\n",
    "\n",
    "When inner get's returned, it has to \"remember\" the variable `d`, so it \"pulls it along\" when it gets returned. The group (function, variable) forms a **closure** and the variable `d` is what is known as a **free variable**. This name comes from the fact that `d` isn't local to `inner`, nor is it Global or Built-in; it's something intermediate. This scope is known as **non-local**."
   ]
  },
  {
   "cell_type": "code",
   "execution_count": 27,
   "metadata": {},
   "outputs": [
    {
     "data": {
      "text/plain": [
       "(<cell at 0x7f86a0369df8: int object at 0xa68b40>,)"
      ]
     },
     "execution_count": 27,
     "metadata": {},
     "output_type": "execute_result"
    }
   ],
   "source": [
    "func.__closure__"
   ]
  },
  {
   "cell_type": "code",
   "execution_count": 28,
   "metadata": {},
   "outputs": [
    {
     "data": {
      "text/plain": [
       "('d',)"
      ]
     },
     "execution_count": 28,
     "metadata": {},
     "output_type": "execute_result"
    }
   ],
   "source": [
    "func.__code__.co_freevars "
   ]
  },
  {
   "cell_type": "markdown",
   "metadata": {},
   "source": [
    "You can also \"force\" a variable to form a part of a closure even if defined locally within `my_inner_func`."
   ]
  },
  {
   "cell_type": "code",
   "execution_count": 29,
   "metadata": {},
   "outputs": [
    {
     "data": {
      "text/plain": [
       "('d',)"
      ]
     },
     "execution_count": 29,
     "metadata": {},
     "output_type": "execute_result"
    }
   ],
   "source": [
    "def outer():\n",
    "    d = 5\n",
    "    def inner(a):\n",
    "        nonlocal d\n",
    "        d = 3\n",
    "        return d + a\n",
    "    return inner\n",
    "\n",
    "func = outer()\n",
    "func.__code__.co_freevars "
   ]
  },
  {
   "cell_type": "markdown",
   "metadata": {},
   "source": [
    "What can we do with closures? There are several interesting applications; for now, we'll focus on decorators."
   ]
  },
  {
   "cell_type": "markdown",
   "metadata": {},
   "source": [
    "## Decorators <a class=\"anchor\" id=\"decorators\"></a>\n",
    "\n",
    "**Decorators** are wrappers around functions that allow you to modify their behaviour while keeping your code clean and readable.\n",
    "\n",
    "There are two kinds of decorators:\n",
    "\n",
    "1. **Simple decorators**.\n",
    "2. **Parametrized decorators**.\n",
    "\n",
    "We'll cover each in turn."
   ]
  },
  {
   "cell_type": "markdown",
   "metadata": {},
   "source": [
    "### Simple Decorators <a class=\"anchor\" id=\"simple-decorators\"></a>\n",
    "\n",
    "We'll start by building a decorator that measures the time a function takes to run.\n",
    "\n",
    "#### Timing a function\n",
    "\n",
    "To time a function we'll use `perf_counter`, which gives us a the computer's time when called. Therefore, we can compute the elapsed time as follows:"
   ]
  },
  {
   "cell_type": "code",
   "execution_count": 30,
   "metadata": {},
   "outputs": [],
   "source": [
    "from time import perf_counter"
   ]
  },
  {
   "cell_type": "code",
   "execution_count": 31,
   "metadata": {},
   "outputs": [
    {
     "name": "stdout",
     "output_type": "stream",
     "text": [
      "5 [1]\n",
      "Elapsed time: 0.007463s.\n"
     ]
    }
   ],
   "source": [
    "# Time before starting.\n",
    "start = perf_counter()\n",
    "# Run the function.\n",
    "result = my_func(5)\n",
    "# Time at end.\n",
    "end = perf_counter()\n",
    "\n",
    "# Compute elapsed time.\n",
    "elapsed = end - start\n",
    "\n",
    "print(f'Elapsed time: {elapsed:.6f}s.')"
   ]
  },
  {
   "cell_type": "markdown",
   "metadata": {},
   "source": [
    "#### Generalizing to a function\n",
    "\n",
    "Now, we don't want to keep copying and pasting this code for every function we want to time would be unwieldy and innefficient, so why don't we generalize into a function?"
   ]
  },
  {
   "cell_type": "code",
   "execution_count": 32,
   "metadata": {},
   "outputs": [
    {
     "name": "stdout",
     "output_type": "stream",
     "text": [
      "1 [1]\n",
      "my_func took 0.005072s to run.\n"
     ]
    }
   ],
   "source": [
    "def time_fn(fn, *args, **kwargs):\n",
    "    \"\"\"\n",
    "    Time a function\n",
    "    \"\"\"\n",
    "    # Time before starting.\n",
    "    start = perf_counter()\n",
    "    # Run the function.\n",
    "    result = fn(*args, **kwargs)\n",
    "    # Time at end.\n",
    "    end = perf_counter()\n",
    "\n",
    "    # Compute elapsed time.\n",
    "    elapsed = end - start\n",
    "\n",
    "    # Print elapsed time.\n",
    "    print(f'{fn.__name__} took {elapsed:.6f}s to run.')\n",
    "\n",
    "    # Return value of the function.\n",
    "    return result\n",
    "\n",
    "time_fn(my_func, 1)"
   ]
  },
  {
   "cell_type": "markdown",
   "metadata": {},
   "source": [
    "#### Building a decorator\n",
    "\n",
    "Now, what if we wanted to *extend* the functionality of `my_func`, instead of wrapping it around another function? An example for this is the tren_de_vivenda pipeline, where several functions require a validation of whether the input is null and change the behaviour of the function if it is.\n",
    "\n",
    "Note that in order to extend the functionality, we need to build a function that returns functions, not just the results."
   ]
  },
  {
   "cell_type": "code",
   "execution_count": 33,
   "metadata": {},
   "outputs": [],
   "source": [
    "# Decorator.\n",
    "def timed(fn):\n",
    "    \"\"\"\n",
    "    Time function fn.\n",
    "    \"\"\"\n",
    "    # Note that fn is a free variable for inner.\n",
    "    def inner(*args, **kwargs):\n",
    "        \"\"\"\n",
    "        Inner function that actually performs the timing.\n",
    "        \"\"\"\n",
    "        # Time before starting.\n",
    "        start = perf_counter()\n",
    "        # Run the function.\n",
    "        result = fn(*args, **kwargs)\n",
    "        # Time at end.\n",
    "        end = perf_counter()\n",
    "        \n",
    "        # Compute elapsed time.\n",
    "        elapsed = end - start\n",
    "        \n",
    "        # Print elapsed time.\n",
    "        print(f'{fn.__name__} took {elapsed:.6f}s to run.')\n",
    "        \n",
    "        # Return value of the function.\n",
    "        return result\n",
    "    \n",
    "    # Return closure.\n",
    "    return inner"
   ]
  },
  {
   "cell_type": "markdown",
   "metadata": {},
   "source": [
    "This structure wraps the timing functionality around fn, allowing us to create a brand new function that incorporates them both in a single, callable function. To apply the decorator, or \"decorate\" a function, you can use one of two syntaxes:"
   ]
  },
  {
   "cell_type": "code",
   "execution_count": 34,
   "metadata": {},
   "outputs": [
    {
     "data": {
      "text/plain": [
       "2880067194370816120"
      ]
     },
     "execution_count": 34,
     "metadata": {},
     "output_type": "execute_result"
    }
   ],
   "source": [
    "def fib_loop(n: 'int') -> 'int':\n",
    "    \"\"\"\n",
    "    Compute n-th Fibonnaci number using a loop.\n",
    "    \"\"\"\n",
    "    fib_1 = 1\n",
    "    fib_2 = 1\n",
    "    for i in range(3, n+1):\n",
    "        fib_1, fib_2 = fib_2, fib_1 + fib_2\n",
    "    return fib_2 \n",
    "\n",
    "fib_loop(90)"
   ]
  },
  {
   "cell_type": "code",
   "execution_count": 35,
   "metadata": {},
   "outputs": [
    {
     "name": "stdout",
     "output_type": "stream",
     "text": [
      "fib_loop took 0.000044s to run.\n"
     ]
    },
    {
     "data": {
      "text/plain": [
       "2880067194370816120"
      ]
     },
     "execution_count": 35,
     "metadata": {},
     "output_type": "execute_result"
    }
   ],
   "source": [
    "def fib_loop(n: 'int') -> 'int':\n",
    "    \"\"\"\n",
    "    Compute n-th Fibonnaci number using a loop.\n",
    "    \"\"\"\n",
    "    fib_1 = 1\n",
    "    fib_2 = 1\n",
    "    for i in range(3, n+1):\n",
    "        fib_1, fib_2 = fib_2, fib_1 + fib_2\n",
    "    return fib_2 \n",
    "\n",
    "fib_loop = timed(fib_loop)\n",
    "fib_loop(90)"
   ]
  },
  {
   "cell_type": "code",
   "execution_count": 36,
   "metadata": {},
   "outputs": [
    {
     "name": "stdout",
     "output_type": "stream",
     "text": [
      "fib_loop took 0.000017s to run.\n"
     ]
    },
    {
     "data": {
      "text/plain": [
       "2880067194370816120"
      ]
     },
     "execution_count": 36,
     "metadata": {},
     "output_type": "execute_result"
    }
   ],
   "source": [
    "@timed\n",
    "def fib_loop(n: 'int') -> 'int':\n",
    "    \"\"\"\n",
    "    Compute n-th Fibonnaci number using a loop.\n",
    "    \"\"\"\n",
    "    fib_1 = 1\n",
    "    fib_2 = 1\n",
    "    for i in range(3, n+1):\n",
    "        fib_1, fib_2 = fib_2, fib_1 + fib_2\n",
    "    return fib_2 \n",
    "\n",
    "fib_loop(90)"
   ]
  },
  {
   "cell_type": "markdown",
   "metadata": {},
   "source": [
    "#### Further improvements\n",
    "\n",
    "Up to here, everything looks fine, however, if we look at the documentation for `fib_loop`, we'll notice something strange."
   ]
  },
  {
   "cell_type": "code",
   "execution_count": 37,
   "metadata": {},
   "outputs": [
    {
     "name": "stdout",
     "output_type": "stream",
     "text": [
      "\n",
      "        Inner function that actually performs the timing.\n",
      "        \n"
     ]
    }
   ],
   "source": [
    "print(fib_loop.__doc__)"
   ]
  },
  {
   "cell_type": "markdown",
   "metadata": {},
   "source": [
    "We have lost our original documentation!\n",
    "\n",
    "In order to fix this, we could choose all the attributes that we want our function to retain and set them manually, or we can use some of Python's built-in goodness."
   ]
  },
  {
   "cell_type": "code",
   "execution_count": 38,
   "metadata": {},
   "outputs": [],
   "source": [
    "from functools import wraps\n",
    "\n",
    "# Decorator.\n",
    "def timed(fn):\n",
    "    \"\"\"\n",
    "    Time function fn.\n",
    "    \"\"\"\n",
    "    \n",
    "    # Make the function keep its name and documentation.\n",
    "    @wraps(fn)\n",
    "    def inner(*args, **kwargs):\n",
    "        \"\"\"\n",
    "        Inner function that actually performs timing.\n",
    "        \"\"\"\n",
    "        # Time before starting.\n",
    "        start = perf_counter()\n",
    "        # Run the function.\n",
    "        result = fn(*args, **kwargs)\n",
    "        # Time at end.\n",
    "        end = perf_counter()\n",
    "        \n",
    "        # Compute elapsed time.\n",
    "        elapsed = end - start\n",
    "        \n",
    "        # Print elapsed time.\n",
    "        print(f'{fn.__name__} took {elapsed:.6f}s to run.')\n",
    "        \n",
    "        # Return value of the function.\n",
    "        return result\n",
    "    \n",
    "    # Return closure.\n",
    "    return inner"
   ]
  },
  {
   "cell_type": "code",
   "execution_count": 39,
   "metadata": {},
   "outputs": [
    {
     "name": "stdout",
     "output_type": "stream",
     "text": [
      "fib_loop took 0.000020s to run.\n"
     ]
    },
    {
     "data": {
      "text/plain": [
       "2880067194370816120"
      ]
     },
     "execution_count": 39,
     "metadata": {},
     "output_type": "execute_result"
    }
   ],
   "source": [
    "@timed\n",
    "def fib_loop(n: 'int') -> 'int':\n",
    "    \"\"\"\n",
    "    Compute n-th Fibonnaci number using a loop,\n",
    "    \"\"\"\n",
    "    fib_1 = 1\n",
    "    fib_2 = 1\n",
    "    for i in range(3, n+1):\n",
    "        fib_1, fib_2 = fib_2, fib_1 + fib_2\n",
    "    return fib_2 \n",
    "\n",
    "fib_loop(90)"
   ]
  },
  {
   "cell_type": "code",
   "execution_count": 40,
   "metadata": {},
   "outputs": [
    {
     "name": "stdout",
     "output_type": "stream",
     "text": [
      "\n",
      "    Compute n-th Fibonnaci number using a loop,\n",
      "    \n"
     ]
    }
   ],
   "source": [
    "print(fib_loop.__doc__)"
   ]
  },
  {
   "cell_type": "markdown",
   "metadata": {},
   "source": [
    "We have managed to keep our documentation (and other attributes) thanks to `wraps`. Which uses the same syntax as a decorator and fullfills the same role as a decorator. Almost as if it were a decorator. Except it calls `fn`...\n",
    "\n",
    "Well, if it looks like a decorator and works like a decorator, it must be a decorator, and unlike the `timed` decorator, it accepts parameters. This is why it's called a **parametrized decorator**."
   ]
  },
  {
   "cell_type": "markdown",
   "metadata": {},
   "source": [
    "### Parametrized Decorators <a class=\"anchor\" id=\"parametrized-decorators\"></a>\n",
    "\n",
    "**Paramtrized decorators** are, as the name implies, decorators that accept parameters; and examples include the `wraps` decorator we saw previously, as well as Flask endpoint definitions:\n",
    "\n",
    "```\n",
    "@app.route('/healthcheck')\n",
    "def healthcheck():\n",
    "    return jsonify(status='ok')\n",
    "```\n",
    "\n",
    "If we think about it, a parametrized decorator is a decorator that changes its behaviour based on an additional parameter, meaning that it's something that must _create_ a decorator based on the value of the parameter. Therefore, a parametrized decorator must be a function that returns decorators!\n",
    "\n",
    "To understand how they work, let's extend our `timed` decorator to make it run the function several times, where the exact number of times is a parameter.\n",
    "\n",
    "#### First step: Figure out what the decorator should look like\n",
    "\n",
    "We'll assume that the number of times is fixed, say, 10 to figure out how the returned decorator should be written."
   ]
  },
  {
   "cell_type": "code",
   "execution_count": 41,
   "metadata": {},
   "outputs": [],
   "source": [
    "# Decorator.\n",
    "def timed(fn):\n",
    "    \"\"\"\n",
    "    Time function fn.\n",
    "    \"\"\"\n",
    "    \n",
    "    # Make the function keep its name and documentation.\n",
    "    @wraps(fn)\n",
    "    def inner(*args, **kwargs):\n",
    "        \"\"\"\n",
    "        Inner function that actually performs timing.\n",
    "        \"\"\"\n",
    "        # Variable to keep track of time elapsed in repetition\n",
    "        elapsed = 0\n",
    "\n",
    "        # Number of iterations\n",
    "        num_iters = 10\n",
    "        \n",
    "        # Iterate 10 times\n",
    "        for i in range(num_iters):\n",
    "\n",
    "            # Time before starting.\n",
    "            start = perf_counter()\n",
    "            # Run the function.\n",
    "            result = fn(*args, **kwargs)\n",
    "            # Time at end.\n",
    "            end = perf_counter()\n",
    "\n",
    "            # Compute elapsed time.\n",
    "            elapsed += end - start\n",
    "        \n",
    "        # Print elapsed time.\n",
    "        print(f'{fn.__name__} took an average of {elapsed/num_iters:.6f}s to run.')\n",
    "        \n",
    "        # Return value of the function.\n",
    "        return result\n",
    "    \n",
    "    # Return closure.\n",
    "    return inner"
   ]
  },
  {
   "cell_type": "code",
   "execution_count": 42,
   "metadata": {},
   "outputs": [
    {
     "name": "stdout",
     "output_type": "stream",
     "text": [
      "fib_loop took an average of 0.000033s to run.\n"
     ]
    },
    {
     "data": {
      "text/plain": [
       "2880067194370816120"
      ]
     },
     "execution_count": 42,
     "metadata": {},
     "output_type": "execute_result"
    }
   ],
   "source": [
    "@timed\n",
    "def fib_loop(n: 'int') -> 'int':\n",
    "    \"\"\"\n",
    "    Compute n-th Fibonnaci number using a loop,\n",
    "    \"\"\"\n",
    "    fib_1 = 1\n",
    "    fib_2 = 1\n",
    "    for i in range(3, n+1):\n",
    "        fib_1, fib_2 = fib_2, fib_1 + fib_2\n",
    "    return fib_2 \n",
    "\n",
    "fib_loop(90)"
   ]
  },
  {
   "cell_type": "markdown",
   "metadata": {},
   "source": [
    "#### Step 2: Enclose it around a function that takes the parameter"
   ]
  },
  {
   "cell_type": "code",
   "execution_count": 43,
   "metadata": {},
   "outputs": [],
   "source": [
    "# Parametrized decorator\n",
    "def time_multiples(num_iters):\n",
    "    \"\"\"\n",
    "    Time a function num_iters times.\n",
    "    \"\"\"\n",
    "    \n",
    "    # Decorator.\n",
    "    def timed(fn):\n",
    "        \"\"\"\n",
    "        Time function fn.\n",
    "        \"\"\"\n",
    "\n",
    "        # Make the function keep its name and documentation.\n",
    "        @wraps(fn)\n",
    "        def inner(*args, **kwargs):\n",
    "            \"\"\"\n",
    "            Inner function that actually performs timing.\n",
    "            \"\"\"\n",
    "            # Variable to keep track of time elapsed in repetition\n",
    "            elapsed = 0\n",
    "\n",
    "            # Iterate 10 times\n",
    "            for num_iter in range(num_iters):\n",
    "                print(f'Running for the {num_iter+1}-th time.')\n",
    "                # Time before starting.\n",
    "                start = perf_counter()\n",
    "                # Run the function.\n",
    "                result = fn(*args, **kwargs)\n",
    "                # Time at end.\n",
    "                end = perf_counter()\n",
    "\n",
    "                # Compute elapsed time.\n",
    "                elapsed += end - start\n",
    "\n",
    "            # Print elapsed time.\n",
    "            print(f'{fn.__name__} took an average of {elapsed/num_iters:.6f}s to run.')\n",
    "\n",
    "            # Return value of the function.\n",
    "            return result\n",
    "\n",
    "        # Return closure.\n",
    "        return inner\n",
    "    # Return decorator\n",
    "    return timed"
   ]
  },
  {
   "cell_type": "code",
   "execution_count": 44,
   "metadata": {},
   "outputs": [
    {
     "name": "stdout",
     "output_type": "stream",
     "text": [
      "Running for the 1-th time.\n",
      "Running for the 2-th time.\n",
      "Running for the 3-th time.\n",
      "Running for the 4-th time.\n",
      "Running for the 5-th time.\n",
      "fib_loop took an average of 0.000020s to run.\n"
     ]
    },
    {
     "data": {
      "text/plain": [
       "2880067194370816120"
      ]
     },
     "execution_count": 44,
     "metadata": {},
     "output_type": "execute_result"
    }
   ],
   "source": [
    "def fib_loop(n: 'int') -> 'int':\n",
    "    \"\"\"\n",
    "    Compute n-th Fibonnaci number using a loop,\n",
    "    \"\"\"\n",
    "    fib_1 = 1\n",
    "    fib_2 = 1\n",
    "    for i in range(3, n+1):\n",
    "        fib_1, fib_2 = fib_2, fib_1 + fib_2\n",
    "    return fib_2 \n",
    "\n",
    "fib_loop_timed = time_multiples(5)(fib_loop)\n",
    "fib_loop_timed(90)"
   ]
  },
  {
   "cell_type": "code",
   "execution_count": 45,
   "metadata": {},
   "outputs": [
    {
     "data": {
      "text/plain": [
       "2880067194370816120"
      ]
     },
     "execution_count": 45,
     "metadata": {},
     "output_type": "execute_result"
    }
   ],
   "source": [
    "fib_loop(90)"
   ]
  },
  {
   "cell_type": "code",
   "execution_count": 46,
   "metadata": {},
   "outputs": [
    {
     "name": "stdout",
     "output_type": "stream",
     "text": [
      "Running for the 1-th time.\n",
      "Running for the 2-th time.\n",
      "Running for the 3-th time.\n",
      "Running for the 4-th time.\n",
      "Running for the 5-th time.\n",
      "fib_loop took an average of 0.000016s to run.\n"
     ]
    },
    {
     "data": {
      "text/plain": [
       "2880067194370816120"
      ]
     },
     "execution_count": 46,
     "metadata": {},
     "output_type": "execute_result"
    }
   ],
   "source": [
    "@time_multiples(5)\n",
    "def fib_loop(n: 'int') -> 'int':\n",
    "    \"\"\"\n",
    "    Compute n-th Fibonnaci number using a loop,\n",
    "    \"\"\"\n",
    "    fib_1 = 1\n",
    "    fib_2 = 1\n",
    "    for i in range(3, n+1):\n",
    "        fib_1, fib_2 = fib_2, fib_1 + fib_2\n",
    "    return fib_2 \n",
    "\n",
    "fib_loop(90)"
   ]
  },
  {
   "cell_type": "markdown",
   "metadata": {},
   "source": [
    "## Concluding Thoughts <a class=\"anchor\" id=\"conclusions\"></a>\n",
    "\n",
    "I believe that a profound understanding of the tools we use can help us become better programmers, write better code, and lay the foundations of what is to come. I hope all of you found somethig new and useful about Python in this Ignition. Thank you very much."
   ]
  },
  {
   "cell_type": "markdown",
   "metadata": {},
   "source": [
    "## References <a class=\"anchor\" id=\"references\"></a>\n",
    "\n",
    "Most of this Ignition (including the examples of decorators and some of the code) is based on Fred Baptiste's course, [Python 3: Deep Dive (Part 1 - Functional)](https://www.udemy.com/course/python-3-deep-dive-part-1/) available in Udemy.\n",
    "\n",
    "Another interesting reference for decorators is [\"Closures and decorators\" by Reza Bagheri](https://towardsdatascience.com/closures-and-decorators-in-python-2551abbc6eb6?gi=379f6abd1aaf).\n",
    "\n",
    "\n",
    "Namespaces image taken from GeeksforGeeks, URL: https://media.geeksforgeeks.org/wp-content/uploads/types_namespace-1.png."
   ]
  }
 ],
 "metadata": {
  "kernelspec": {
   "display_name": "Python 3",
   "language": "python",
   "name": "python3"
  },
  "language_info": {
   "codemirror_mode": {
    "name": "ipython",
    "version": 3
   },
   "file_extension": ".py",
   "mimetype": "text/x-python",
   "name": "python",
   "nbconvert_exporter": "python",
   "pygments_lexer": "ipython3",
   "version": "3.6.9"
  }
 },
 "nbformat": 4,
 "nbformat_minor": 4
}
